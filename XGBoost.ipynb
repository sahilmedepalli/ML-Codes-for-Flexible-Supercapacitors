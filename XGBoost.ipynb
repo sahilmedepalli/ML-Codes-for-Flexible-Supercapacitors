{
 "cells": [
  {
   "cell_type": "code",
   "execution_count": 1,
   "metadata": {},
   "outputs": [],
   "source": [
    "import numpy as np\n",
    "import pandas as pd\n",
    "import matplotlib.pyplot as plt\n",
    "from sklearn.preprocessing import MinMaxScaler\n",
    "import xgboost as xgb\n",
    "from xgboost.sklearn import XGBRegressor\n",
    "from sklearn.model_selection import train_test_split\n",
    "from sklearn.metrics import r2_score\n",
    "from sklearn.metrics import mean_squared_error"
   ]
  },
  {
   "cell_type": "markdown",
   "metadata": {},
   "source": [
    "# Import datasets "
   ]
  },
  {
   "cell_type": "code",
   "execution_count": 2,
   "metadata": {},
   "outputs": [],
   "source": [
    "# add data to dataframes\n",
    "df1 = pd.read_csv('LS_12(0.1).csv')\n",
    "df2 = pd.read_csv('LS_12(1).csv')\n",
    "df3 = pd.read_csv('LS_24(0.1).csv')\n",
    "df4 = pd.read_csv('LS_24(1).csv')\n",
    "df5 = pd.read_csv('DAL_12(0.1).csv')\n",
    "df6 = pd.read_csv('DAL_12(1).csv')\n",
    "df7 = pd.read_csv('DAL_24(0.1).csv')\n",
    "df8 = pd.read_csv('DAL_24(1).csv')\n",
    "df9 = pd.read_csv('LIG_12(0.1).csv')\n",
    "df10 = pd.read_csv('LIG_24(0.1).csv')"
   ]
  },
  {
   "cell_type": "markdown",
   "metadata": {},
   "source": [
    "### Normalize dataset"
   ]
  },
  {
   "cell_type": "code",
   "execution_count": 3,
   "metadata": {},
   "outputs": [],
   "source": [
    "scaler = MinMaxScaler()\n",
    "df1['capacitance'] = scaler.fit_transform(np.array(df1['capacitance']).reshape(-1,1))"
   ]
  },
  {
   "cell_type": "markdown",
   "metadata": {},
   "source": [
    "### Train/Test split"
   ]
  },
  {
   "cell_type": "code",
   "execution_count": 4,
   "metadata": {},
   "outputs": [],
   "source": [
    "X1 = df1.iloc[:,:-1]\n",
    "y1 = df1.iloc[:,-1]\n",
    "X1_train, X1_test, y1_train, y1_test = train_test_split(X1, y1, test_size=0.2, random_state=0)\n",
    "# TODO: find a way to combine dfs into one dataset (need new variables to differentiate different materials)"
   ]
  },
  {
   "cell_type": "markdown",
   "metadata": {},
   "source": [
    "# Fit model"
   ]
  },
  {
   "cell_type": "code",
   "execution_count": 5,
   "metadata": {},
   "outputs": [
    {
     "data": {
      "text/plain": [
       "XGBRegressor(base_score=0.5, booster='gbtree', colsample_bylevel=1,\n",
       "             colsample_bynode=1, colsample_bytree=1, gamma=0, gpu_id=-1,\n",
       "             importance_type='gain', interaction_constraints='',\n",
       "             learning_rate=0.300000012, max_delta_step=0, max_depth=6,\n",
       "             min_child_weight=1, missing=nan, monotone_constraints='()',\n",
       "             n_estimators=100, n_jobs=8, num_parallel_tree=1, random_state=0,\n",
       "             reg_alpha=0, reg_lambda=1, scale_pos_weight=1, subsample=1,\n",
       "             tree_method='exact', validate_parameters=1, verbosity=0)"
      ]
     },
     "execution_count": 5,
     "metadata": {},
     "output_type": "execute_result"
    }
   ],
   "source": [
    "xgb = XGBRegressor(verbosity=0, random_state=0)\n",
    "# TODO: hyperparameter tuning\n",
    "xgb.fit(X1_train, y1_train)"
   ]
  },
  {
   "cell_type": "code",
   "execution_count": 6,
   "metadata": {},
   "outputs": [],
   "source": [
    "def fit_model(X_train, X_test, y_train, y_test):\n",
    "    # training set predictions\n",
    "    train_pred = xgb.predict(X_train)\n",
    "    print(\"training...\")\n",
    "    y_train = scaler.inverse_transform(np.array(y_train).reshape(-1,1)) # get original values (inverse transform)\n",
    "    train_pred = scaler.inverse_transform(np.array(train_pred).reshape(-1,1))\n",
    "    print(\"R^2 score: \", r2_score(y_train, train_pred))\n",
    "    print(\"RMSE: \", mean_squared_error(y_train, train_pred, squared=False))\n",
    "    print(\"MAPE: \", np.mean(np.abs((y_train - train_pred) / y_train)) * 100)\n",
    "    \n",
    "    # test set predictions\n",
    "    test_pred = xgb.predict(X_test)\n",
    "    print(\"testing...\")\n",
    "    y_test = scaler.inverse_transform(np.array(y_test).reshape(-1,1))\n",
    "    test_pred = scaler.inverse_transform(np.array(test_pred).reshape(-1,1))\n",
    "    print(\"R^2 score: \", r2_score(y_test, test_pred))\n",
    "    print(\"RMSE: \", mean_squared_error(y_test, test_pred, squared=False))\n",
    "    print(\"MAPE: \", np.mean(np.abs((y_test - test_pred) / y_test)) * 100)\n",
    "    return y_test, test_pred"
   ]
  },
  {
   "cell_type": "markdown",
   "metadata": {},
   "source": [
    "# Results"
   ]
  },
  {
   "cell_type": "code",
   "execution_count": 7,
   "metadata": {},
   "outputs": [],
   "source": [
    "def plot_results(df, y_test, test_pred):\n",
    "    df['capacitance'] = scaler.inverse_transform(np.array(df['capacitance']).reshape(-1,1))\n",
    "    plt.figure()\n",
    "    plt.plot(df['capacitance'], df['capacitance'], color='black')\n",
    "    plt.scatter(y_test, test_pred, color='red')\n",
    "    plt.xlabel(r'Actual Specific Capacitance (uF/cm$^2$)')\n",
    "    plt.ylabel(r'Predicted Specific Capacitance (uF/cm$^2$)')\n",
    "    plt.tight_layout()\n",
    "    plt.show()"
   ]
  },
  {
   "cell_type": "markdown",
   "metadata": {},
   "source": [
    "### LS_12(0.1)"
   ]
  },
  {
   "cell_type": "code",
   "execution_count": 8,
   "metadata": {},
   "outputs": [
    {
     "name": "stdout",
     "output_type": "stream",
     "text": [
      "training...\n",
      "R^2 score:  0.9998403932199671\n",
      "RMSE:  8.315982071989994\n",
      "MAPE:  0.21131724991944362\n",
      "testing...\n",
      "R^2 score:  0.9908561354490073\n",
      "RMSE:  58.32816998246339\n",
      "MAPE:  1.5109786695625445\n"
     ]
    },
    {
     "data": {
      "image/png": "[encoded data removed]",
      "text/plain": [
       "<Figure size 432x288 with 1 Axes>"
      ]
     },
     "metadata": {
      "needs_background": "light"
     },
     "output_type": "display_data"
    }
   ],
   "source": [
    "y1_test, test1_pred = fit_model(X1_train, X1_test, y1_train, y1_test)\n",
    "plot_results(df1, y1_test, test1_pred)"
   ]
  }
 ],
 "metadata": {
  "kernelspec": {
   "display_name": "Python 3",
   "language": "python",
   "name": "python3"
  },
  "language_info": {
   "codemirror_mode": {
    "name": "ipython",
    "version": 3
   },
   "file_extension": ".py",
   "mimetype": "text/x-python",
   "name": "python",
   "nbconvert_exporter": "python",
   "pygments_lexer": "ipython3",
   "version": "3.7.3"
  }
 },
 "nbformat": 4,
 "nbformat_minor": 4
}
